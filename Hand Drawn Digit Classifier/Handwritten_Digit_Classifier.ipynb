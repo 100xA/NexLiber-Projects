{
  "nbformat": 4,
  "nbformat_minor": 0,
  "metadata": {
    "colab": {
      "provenance": []
    },
    "kernelspec": {
      "name": "python3",
      "display_name": "Python 3"
    },
    "language_info": {
      "name": "python"
    }
  },
  "cells": [
    {
      "cell_type": "markdown",
      "metadata": {
        "id": "X6B8queNzVGs"
      },
      "source": [
        "#Introduction"
      ]
    },
    {
      "cell_type": "markdown",
      "metadata": {
        "id": "smLtEITgzcXl"
      },
      "source": [
        "# What you need to know:\n",
        "\n",
        "\n",
        "1.    Basic Python\n",
        "2.    How to install libraries via pip\n",
        "3.  How to use Google Colab\n",
        "\n",
        "In this notebook, we will create a [CNN](https://en.wikipedia.org/wiki/Convolutional_neural_network) using a python library called [Keras](https://keras.io/). "
      ]
    },
    {
      "cell_type": "markdown",
      "metadata": {
        "id": "-vYzi-pUzl75"
      },
      "source": [
        "#1. Importing Dataset"
      ]
    },
    {
      "cell_type": "markdown",
      "source": [
        "First, let's import Keras.\n",
        "Next, we load data from a famous dataset; [MNIST](https://en.wikipedia.org/wiki/MNIST_database).  MNIST contains 60,000 28by28 images of handrawn digits from 0 to 9. Each image is stored as a 28 by 28 list in the dataset, where each element of the list is a pixel value."
      ],
      "metadata": {
        "id": "9yifrlP2jPB2"
      }
    },
    {
      "cell_type": "code",
      "metadata": {
        "id": "4Lex5_FLpZ1L"
      },
      "source": [
        "from keras.datasets import mnist\n",
        "data = mnist.load_data()"
      ],
      "execution_count": null,
      "outputs": []
    },
    {
      "cell_type": "markdown",
      "source": [
        "# "
      ],
      "metadata": {
        "id": "qdPOf7pKgyy3"
      }
    },
    {
      "cell_type": "markdown",
      "metadata": {
        "id": "tBCYhVzqzy5P"
      },
      "source": [
        "#2. Split the Dataset into Test and Train"
      ]
    },
    {
      "cell_type": "markdown",
      "source": [
        "We split the data into training and testing sets as below. [Why?](https://blog.roboflow.com/train-test-split/#:~:text=The%20motivation%20is%20quite%20simple,to%20accurately%20evaluate%20your%20model.)"
      ],
      "metadata": {
        "id": "Pl9Z8hIUj8Qw"
      }
    },
    {
      "cell_type": "code",
      "metadata": {
        "id": "r5_lBQuwp7Wf"
      },
      "source": [
        "(X_train, y_train), (X_test, y_test) = data"
      ],
      "execution_count": null,
      "outputs": []
    },
    {
      "cell_type": "markdown",
      "source": [
        "As you can see below, the first element of the X_train list has a 'shape' (its dimensions) of 28 by 28."
      ],
      "metadata": {
        "id": "gSP9jp3WkGnT"
      }
    },
    {
      "cell_type": "code",
      "metadata": {
        "colab": {
          "base_uri": "https://localhost:8080/"
        },
        "id": "xKzCobHGqmK8",
        "outputId": "6ef5b116-7a60-4864-e075-155ad50e30e9"
      },
      "source": [
        "X_train[0].shape"
      ],
      "execution_count": null,
      "outputs": [
        {
          "output_type": "execute_result",
          "data": {
            "text/plain": [
              "(28, 28)"
            ]
          },
          "metadata": {},
          "execution_count": 4
        }
      ]
    },
    {
      "cell_type": "markdown",
      "source": [
        "And there are 60,000 elements."
      ],
      "metadata": {
        "id": "msgwCM6tkUA9"
      }
    },
    {
      "cell_type": "code",
      "metadata": {
        "colab": {
          "base_uri": "https://localhost:8080/"
        },
        "id": "k82_jVuFsRlL",
        "outputId": "6c3993de-54dc-45f4-f264-3ffcd5464b19"
      },
      "source": [
        "X_train.shape"
      ],
      "execution_count": null,
      "outputs": [
        {
          "output_type": "execute_result",
          "data": {
            "text/plain": [
              "(60000, 28, 28)"
            ]
          },
          "metadata": {},
          "execution_count": 5
        }
      ]
    },
    {
      "cell_type": "markdown",
      "source": [
        "These next lines reshape the lists so that their pixel values range from 0 to 1 and 0 to 255. This makes it easier for our CNN later and for us to plot a grayscale graph if needed."
      ],
      "metadata": {
        "id": "zBcPyfJ_kYYp"
      }
    },
    {
      "cell_type": "code",
      "metadata": {
        "id": "SnqJbvzlrP2R"
      },
      "source": [
        "X_train = X_train.reshape((X_train.shape[0], 28*28)).astype('float32')\n",
        "X_test = X_test.reshape((X_test.shape[0], 28*28)).astype('float32')"
      ],
      "execution_count": null,
      "outputs": []
    },
    {
      "cell_type": "code",
      "metadata": {
        "id": "gyXFf2zurqFb"
      },
      "source": [
        "X_train = X_train / 255\n",
        "X_test = X_test / 255"
      ],
      "execution_count": null,
      "outputs": []
    },
    {
      "cell_type": "markdown",
      "source": [
        "The Y lists contain labels for the images i.e '1' '2' ...\n",
        "These next lines catergorize the lists.\n",
        "\n"
      ],
      "metadata": {
        "id": "5BgzN3t3km96"
      }
    },
    {
      "cell_type": "code",
      "metadata": {
        "id": "qp5_vm5Sr2cp"
      },
      "source": [
        "from keras.utils import np_utils\n",
        "\n",
        "y_train = np_utils.to_categorical(y_train)\n",
        "y_test = np_utils.to_categorical(y_test)\n",
        "\n",
        "num_classes = y_test.shape[1]"
      ],
      "execution_count": null,
      "outputs": []
    },
    {
      "cell_type": "markdown",
      "source": [
        "# What are the dimensions of a list with the shape (5, 6)?\n",
        "\n",
        "1.   6 by 5\n",
        "2.   5 by 6\n",
        "3. 30 by 30\n",
        "4. 30\n",
        "\n"
      ],
      "metadata": {
        "id": "nhI8pmJhbjZ8"
      }
    },
    {
      "cell_type": "code",
      "source": [
        "print('answer is (2) 5 by 6!')"
      ],
      "metadata": {
        "colab": {
          "base_uri": "https://localhost:8080/"
        },
        "id": "HTlXhwqDgn7s",
        "outputId": "9b0c4b2d-c4ed-4235-b83b-5eeda9556c8d"
      },
      "execution_count": null,
      "outputs": [
        {
          "output_type": "stream",
          "name": "stdout",
          "text": [
            "answer is (2) 5 by 6!\n"
          ]
        }
      ]
    },
    {
      "cell_type": "markdown",
      "metadata": {
        "id": "scz1_vUWz_pb"
      },
      "source": [
        "#3. Model Building"
      ]
    },
    {
      "cell_type": "markdown",
      "source": [
        "We import the Sequential (a layer-by-layer based model) model and the [Dense](https://analyticsindiamag.com/a-complete-understanding-of-dense-layers-in-neural-networks/#:~:text=Sign%20up-,What%20is%20a%20Dense%20Layer%3F,in%20artificial%20neural%20network%20networks.) layer. These are pre-defined tools we can use to make it significantly faster to make a CNN."
      ],
      "metadata": {
        "id": "e-417hCmlTep"
      }
    },
    {
      "cell_type": "code",
      "metadata": {
        "id": "F-fUU4OoszeW"
      },
      "source": [
        "from keras.models import Sequential\n",
        "from keras.layers import Dense"
      ],
      "execution_count": null,
      "outputs": []
    },
    {
      "cell_type": "code",
      "metadata": {
        "id": "q6th6CP0ti8X"
      },
      "source": [
        "model = Sequential() #instantiate the model\n",
        "\n",
        "model.add(Dense(32, input_dim = 28 * 28, activation= 'relu')) #define the first Layer of the model --> A Dense layer which takes in an input of size 28 by 28 and has an output of size 32 \n",
        "\n",
        "model.add(Dense(64, activation = 'relu')) # second layer\n",
        "\n",
        "model.add(Dense(10, activation  = 'softmax')) # third layer"
      ],
      "execution_count": null,
      "outputs": []
    },
    {
      "cell_type": "markdown",
      "source": [
        "What's relu and softmax? Read [here](https://towardsdatascience.com/activation-functions-neural-networks-1cbd9f8d91d6)"
      ],
      "metadata": {
        "id": "bXlNFpwumdk3"
      }
    },
    {
      "cell_type": "markdown",
      "source": [
        "Next, we compile the model. We use a loss function which compares the target and predicted output values and measures how well the neural network models the training data. The optimizer used is 'Adam' as it is fast, and easy to run. Lastly, we use the metrics of accuraccy to determine the model's effectiveness."
      ],
      "metadata": {
        "id": "KZ6tyQWmm7qk"
      }
    },
    {
      "cell_type": "code",
      "metadata": {
        "id": "hulSizWzvJB3"
      },
      "source": [
        "model.compile(loss = 'categorical_crossentropy', optimizer = 'adam', metrics = ['accuracy'])"
      ],
      "execution_count": null,
      "outputs": []
    },
    {
      "cell_type": "code",
      "metadata": {
        "colab": {
          "base_uri": "https://localhost:8080/"
        },
        "id": "JZ5p6XCVvW_0",
        "outputId": "2a0dd9eb-8333-4af4-c50a-91cadafb5958"
      },
      "source": [
        "model.summary()"
      ],
      "execution_count": null,
      "outputs": [
        {
          "output_type": "stream",
          "name": "stdout",
          "text": [
            "Model: \"sequential\"\n",
            "_________________________________________________________________\n",
            " Layer (type)                Output Shape              Param #   \n",
            "=================================================================\n",
            " dense (Dense)               (None, 32)                25120     \n",
            "                                                                 \n",
            " dense_1 (Dense)             (None, 64)                2112      \n",
            "                                                                 \n",
            " dense_2 (Dense)             (None, 10)                650       \n",
            "                                                                 \n",
            "=================================================================\n",
            "Total params: 27,882\n",
            "Trainable params: 27,882\n",
            "Non-trainable params: 0\n",
            "_________________________________________________________________\n"
          ]
        }
      ]
    },
    {
      "cell_type": "markdown",
      "metadata": {
        "id": "pPMXokxP0G_c"
      },
      "source": [
        "#4. Train the model"
      ]
    },
    {
      "cell_type": "markdown",
      "source": [
        "It's the part you've been waiting for! Time to train our model!\n",
        "We 'fit' the model by providing the data we want it to analyse, the correct answers, the number of epochs (how many cycles of training it goes through) and the batch size (the number of training examples used in one epoch)."
      ],
      "metadata": {
        "id": "dE50riK7nxt5"
      }
    },
    {
      "cell_type": "code",
      "metadata": {
        "colab": {
          "base_uri": "https://localhost:8080/"
        },
        "id": "ApCMy5DHvaXL",
        "outputId": "38c6e556-7298-4152-fa72-9b168d274056"
      },
      "source": [
        "model.fit(X_train, y_train, epochs= 10, batch_size = 100)"
      ],
      "execution_count": null,
      "outputs": [
        {
          "output_type": "stream",
          "name": "stdout",
          "text": [
            "Epoch 1/10\n",
            "600/600 [==============================] - 3s 3ms/step - loss: 0.4230 - accuracy: 0.8784\n",
            "Epoch 2/10\n",
            "600/600 [==============================] - 2s 3ms/step - loss: 0.1814 - accuracy: 0.9467\n",
            "Epoch 3/10\n",
            "600/600 [==============================] - 2s 3ms/step - loss: 0.1476 - accuracy: 0.9560\n",
            "Epoch 4/10\n",
            "600/600 [==============================] - 2s 3ms/step - loss: 0.1238 - accuracy: 0.9628\n",
            "Epoch 5/10\n",
            "600/600 [==============================] - 2s 3ms/step - loss: 0.1091 - accuracy: 0.9675\n",
            "Epoch 6/10\n",
            "600/600 [==============================] - 2s 3ms/step - loss: 0.0970 - accuracy: 0.9708\n",
            "Epoch 7/10\n",
            "600/600 [==============================] - 2s 3ms/step - loss: 0.0868 - accuracy: 0.9740\n",
            "Epoch 8/10\n",
            "600/600 [==============================] - 2s 3ms/step - loss: 0.0801 - accuracy: 0.9752\n",
            "Epoch 9/10\n",
            "600/600 [==============================] - 2s 3ms/step - loss: 0.0714 - accuracy: 0.9785\n",
            "Epoch 10/10\n",
            "600/600 [==============================] - 2s 3ms/step - loss: 0.0669 - accuracy: 0.9790\n"
          ]
        },
        {
          "output_type": "execute_result",
          "data": {
            "text/plain": [
              "<keras.callbacks.History at 0x7ff5ba5bdb10>"
            ]
          },
          "metadata": {},
          "execution_count": 12
        }
      ]
    },
    {
      "cell_type": "markdown",
      "metadata": {
        "id": "fZpCtAlK0Md_"
      },
      "source": [
        "#5. Predicting Accuracy"
      ]
    },
    {
      "cell_type": "markdown",
      "source": [
        "Our model is done! To make sure it learnt correctly, we must give it a test!\n",
        "We can evaluate the model based on the metric of Accuraccy as we stated above. The value is returned between 0 and 1 so multiplying it by 100 shows the percentage accuraccy."
      ],
      "metadata": {
        "id": "4_N_qirToIUb"
      }
    },
    {
      "cell_type": "code",
      "metadata": {
        "colab": {
          "base_uri": "https://localhost:8080/"
        },
        "id": "BjQQWGPAvp8X",
        "outputId": "3f702109-587c-42c4-ef35-7806dabc02ad"
      },
      "source": [
        "scores = model.evaluate(X_test, y_test)\n",
        "print('Accuracy: ',scores[1] * 100)"
      ],
      "execution_count": null,
      "outputs": [
        {
          "output_type": "stream",
          "name": "stdout",
          "text": [
            "313/313 [==============================] - 1s 2ms/step - loss: 0.0995 - accuracy: 0.9702\n",
            "Accuracy:  97.02000021934509\n"
          ]
        }
      ]
    },
    {
      "cell_type": "markdown",
      "source": [
        "I hope the accuraccy of yours is above 95! That should be a good mark of a 'good-enough' CNN for our case. Now, we can save the model below and finally be able to tell others that 'I can make a Neural Network in 10 minutes!'"
      ],
      "metadata": {
        "id": "ZMccSt89ogQZ"
      }
    },
    {
      "cell_type": "code",
      "source": [
        "model.save('')"
      ],
      "metadata": {
        "id": "edaKimSuA0vA"
      },
      "execution_count": null,
      "outputs": []
    }
  ]
}